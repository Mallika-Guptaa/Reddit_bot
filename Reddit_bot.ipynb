{
  "nbformat": 4,
  "nbformat_minor": 0,
  "metadata": {
    "colab": {
      "provenance": []
    },
    "kernelspec": {
      "name": "python3",
      "display_name": "Python 3"
    },
    "language_info": {
      "name": "python"
    }
  },
  "cells": [
    {
      "cell_type": "code",
      "execution_count": null,
      "metadata": {
        "id": "8EFQySxmEEjD"
      },
      "outputs": [],
      "source": [
        "# Install necessary packages\n",
        "!pip install praw requests schedule\n",
        "!pip install groq\n",
        "from groq import Groq\n",
        "\n",
        "import os\n",
        "import requests\n",
        "import praw\n",
        "import schedule\n",
        "import time\n",
        "import logging\n",
        "\n",
        "# Set up basic logging\n",
        "logging.basicConfig(level=logging.INFO, format='%(asctime)s - %(levelname)s - %(message)s')\n",
        "\n",
        "\n",
        "\n",
        "# Import Groq client after installing it\n",
        "client = Groq(api_key=\"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\")\n",
        "\n",
        "# Setup and authenticate with Reddit API\n",
        "reddit = praw.Reddit(\n",
        "    client_id='DVQdI91lEDoMf3jFE5BYqA',\n",
        "    client_secret='huXq4Oiw24FwiDRNV0o5CumzGHAwoA',\n",
        "    password='Vantablack712@',\n",
        "    user_agent='script:reddit_bot:v1.0 (by /u/Vanta_black__)',\n",
        "    username='Vanta_black__'\n",
        ")\n",
        "\n",
        "def generate_and_post():\n",
        "    try:\n",
        "        # Generate title and content for the story\n",
        "        chat_completion = client.chat.completions.create(\n",
        "            messages=[\n",
        "                {\"role\": \"user\",\n",
        "                 \"content\": \"Generate a story with a title and content\",\n",
        "                }\n",
        "            ],\n",
        "            model=\"llama-3.3-70b-versatile\",\n",
        "        )\n",
        "\n",
        "        # Extract the title and content from the response\n",
        "        response = chat_completion.choices[0].message.content\n",
        "        parts = response.split('\\n', 1)  # Split only at the first newline\n",
        "        title = parts[0].strip('* ')  # Remove asterisks and spaces around the title\n",
        "        content = parts[1] if len(parts) > 1 else \"\"\n",
        "\n",
        "        # Submit the post to Reddit\n",
        "        subreddit_name = \"test\"\n",
        "        subreddit = reddit.subreddit(subreddit_name)\n",
        "        post = subreddit.submit(title=title, selftext=content)\n",
        "        logging.info(f\"Posted to Reddit: {title}\")\n",
        "    except Exception as e:\n",
        "        logging.error(f\"Failed to generate or post content due to: {e}\")\n",
        "\n",
        "# Schedule the task to run 5 minutes after script starts\n",
        "schedule.every().minute.at(\":05\").do(generate_and_post)\n",
        "\n",
        "while True:\n",
        "    schedule.run_pending()\n",
        "    time.sleep(1)"
      ]
    }
  ]
}